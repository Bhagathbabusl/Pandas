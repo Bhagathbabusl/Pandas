{
  "nbformat": 4,
  "nbformat_minor": 0,
  "metadata": {
    "colab": {
      "private_outputs": true,
      "provenance": []
    },
    "kernelspec": {
      "name": "python3",
      "display_name": "Python 3"
    },
    "language_info": {
      "name": "python"
    }
  },
  "cells": [
    {
      "cell_type": "markdown",
      "source": [
        "## Data Wrangling\n",
        "\n",
        "Data wrangling is a critical step in the data analysis pipeline that involves transforming and mapping raw data into a format suitable for analysis. This process includes merging and joining DataFrames, reshaping data, and handling categorical data. Here’s a detailed look at each of these aspects:\n",
        "\n",
        "### Merging and Joining DataFrames\n",
        "\n",
        "Merging and joining DataFrames are operations used to combine data from different sources into a single DataFrame. This is crucial when data is split across multiple tables or datasets.\n",
        "\n",
        "- merge():\n",
        "\n",
        "  - The `merge()` function is a powerful tool in pandas that allows you to combine two DataFrames based on a common column or index. This function is similar to SQL JOIN operations. The `merge()` function supports various types of joins:\n",
        "\n",
        "  - **Inner Join:** Returns only the rows that have matching values in both DataFrames.\n",
        "  - **Outer Join:** Returns all rows from both DataFrames, with missing values filled in with NaNs where there is no match.\n",
        "  - **Left Join:** Returns all rows from the left DataFrame and the matching rows from the right DataFrame. Rows in the left DataFrame with no match in the right DataFrame will have NaNs.\n",
        "  - **Right Join:** Returns all rows from the right DataFrame and the matching rows from the left DataFrame. Rows in the right DataFrame with no match in the left DataFrame will have NaNs.\n",
        "\n",
        "  **Example:**\n",
        "\n",
        "  ```python\n",
        "  import pandas as pd\n",
        "\n",
        "  data1 = {\n",
        "      'Name': ['Bhagath', 'Bharath', 'Monika'],\n",
        "      'Age': [25, 30, 35]\n",
        "  }\n",
        "  data2 = {\n",
        "      'Name': ['Bharath', 'Monika', 'Padhmavathi'],\n",
        "      'City': ['Chennai', 'Hyderabad', 'Chickkaballapur']\n",
        "  }\n",
        "  df1 = pd.DataFrame(data1)\n",
        "  df2 = pd.DataFrame(data2)\n",
        "\n",
        "  # Merging DataFrames on 'Name'\n",
        "  df_merged = pd.merge(df1, df2, on='Name')\n",
        "  print(df_merged)\n"
      ],
      "metadata": {
        "id": "nENpEyJpdMNZ"
      }
    },
    {
      "cell_type": "markdown",
      "source": [
        "- join()\n",
        "\n",
        "  - The join() method allows you to combine DataFrames based on their indices. This is useful when the DataFrames share the same index or you want to align data along the index. By default, the join() method performs a left join.\n",
        "\n",
        "Example:"
      ],
      "metadata": {
        "id": "Oa-SW8HsdQxE"
      }
    },
    {
      "cell_type": "code",
      "execution_count": null,
      "metadata": {
        "id": "n_lS4PQYcpK3"
      },
      "outputs": [],
      "source": [
        "import pandas as pd\n",
        "\n",
        "data1 = {\n",
        "    'Age': [25, 30, 35]\n",
        "}\n",
        "data2 = {\n",
        "    'City': ['Bangalore', 'Chennai', 'Hyderabad']\n",
        "}\n",
        "df1 = pd.DataFrame(data1, index=['Bhagath', 'Bharath', 'Monika'])\n",
        "df2 = pd.DataFrame(data2, index=['Bhagath', 'Bharath', 'Monika'])\n",
        "\n",
        "# Joining DataFrames on index\n",
        "df_joined = df1.join(df2)\n",
        "print(df_joined)\n"
      ]
    },
    {
      "cell_type": "markdown",
      "source": [
        "- concat()\n",
        "\n",
        "  - The concat() function is used to concatenate multiple DataFrames along a particular axis (rows or columns). It’s useful for stacking DataFrames either vertically (appending rows) or horizontally (adding columns).\n",
        "    \n",
        "\n",
        "    \n",
        "  Example:"
      ],
      "metadata": {
        "id": "5-CIEXCrdsJd"
      }
    },
    {
      "cell_type": "code",
      "source": [
        "import pandas as pd\n",
        "\n",
        "data1 = {\n",
        "    'Name': ['Bhagath', 'Bharath'],\n",
        "    'Age': [25, 30]\n",
        "}\n",
        "data2 = {\n",
        "    'Name': ['Monika', 'Padhmavathi'],\n",
        "    'Age': [35, 28]\n",
        "}\n",
        "df1 = pd.DataFrame(data1)\n",
        "df2 = pd.DataFrame(data2)\n",
        "\n",
        "# Concatenating DataFrames along rows\n",
        "df_concat = pd.concat([df1, df2])\n",
        "print(df_concat)\n"
      ],
      "metadata": {
        "id": "jDAHGGAyd4R3"
      },
      "execution_count": null,
      "outputs": []
    },
    {
      "cell_type": "markdown",
      "source": [
        "### Reshaping Data:\n",
        "- Reshaping data involves transforming it between wide and long formats. This process is crucial for preparing data for analysis, especially when dealing with complex datasets."
      ],
      "metadata": {
        "id": "OpN_ACYXd6NZ"
      }
    },
    {
      "cell_type": "markdown",
      "source": [
        "- melt()\n",
        "\n",
        "  -The melt() function is used to transform a DataFrame from wide format to long format. This is done by unpivoting columns into rows, making it easier to analyze data that has multiple columns representing different variables.\n",
        "\n",
        "Example:"
      ],
      "metadata": {
        "id": "9DZh8SNgd-qt"
      }
    },
    {
      "cell_type": "code",
      "source": [
        "import pandas as pd\n",
        "\n",
        "data = {\n",
        "    'Name': ['Bhagath', 'Bharath'],\n",
        "    'Age': [25, 30],\n",
        "    'City': ['Bangalore', 'Chennai']\n",
        "}\n",
        "df = pd.DataFrame(data)\n",
        "\n",
        "# Melting DataFrame\n",
        "df_melted = pd.melt(df, id_vars=['Name'], var_name='Attribute', value_name='Value')\n",
        "print(df_melted)\n"
      ],
      "metadata": {
        "id": "Z62Ek82GeBtE"
      },
      "execution_count": null,
      "outputs": []
    },
    {
      "cell_type": "markdown",
      "source": [
        "- pivot()\n",
        "\n",
        "  - The pivot() function reshapes data by transforming long-format data into wide-format data. It creates a new DataFrame where unique values of one column become the new columns, and the values in another column fill the cells.\n",
        "\n",
        "Example:"
      ],
      "metadata": {
        "id": "6q3QWxr2eFSN"
      }
    },
    {
      "cell_type": "code",
      "source": [
        "import pandas as pd\n",
        "\n",
        "data = {\n",
        "    'Name': ['Bhagath', 'Bharath', 'Monika'],\n",
        "    'Attribute': ['Age', 'Age', 'City'],\n",
        "    'Value': [25, 30, 'Hyderabad']\n",
        "}\n",
        "df = pd.DataFrame(data)\n",
        "\n",
        "# Pivoting DataFrame\n",
        "df_pivot = df.pivot(index='Name', columns='Attribute', values='Value')\n",
        "print(df_pivot)\n"
      ],
      "metadata": {
        "id": "J1ZDzjR2eJVS"
      },
      "execution_count": null,
      "outputs": []
    },
    {
      "cell_type": "markdown",
      "source": [
        "- stack()\n",
        "\n",
        "  - The stack() function stacks the columns of a DataFrame into rows, which transforms it from a wide format to a long format. This is useful for handling multi-level columns and preparing data for complex analyses.\n",
        "\n",
        "Example:"
      ],
      "metadata": {
        "id": "57VXDH1aeK-M"
      }
    },
    {
      "cell_type": "code",
      "source": [
        "import pandas as pd\n",
        "\n",
        "data = {\n",
        "    'Name': ['Bhagath', 'Bharath'],\n",
        "    'Age': [25, 30],\n",
        "    'City': ['Bangalore', 'Chennai']\n",
        "}\n",
        "df = pd.DataFrame(data)\n",
        "\n",
        "# Stacking DataFrame\n",
        "df_stacked = df.stack()\n",
        "print(df_stacked)\n"
      ],
      "metadata": {
        "id": "EO7LG-QBeNs_"
      },
      "execution_count": null,
      "outputs": []
    },
    {
      "cell_type": "markdown",
      "source": [
        "- unstack()\n",
        "\n",
        "  - The unstack() function pivots the innermost level of the index into columns, which transforms the data from long format to wide format. This method is useful for creating summary tables from multi-index DataFrames.\n",
        "\n",
        "Example:"
      ],
      "metadata": {
        "id": "cTsrvr1feQVW"
      }
    },
    {
      "cell_type": "code",
      "source": [
        "import pandas as pd\n",
        "\n",
        "data = {\n",
        "    'Name': ['Bhagath', 'Bharath'],\n",
        "    'Attribute': ['Age', 'City'],\n",
        "    'Value': [25, 'Chennai']\n",
        "}\n",
        "df = pd.DataFrame(data)\n",
        "df.set_index(['Name', 'Attribute'], inplace=True)\n",
        "\n",
        "# Unstacking DataFrame\n",
        "df_unstacked = df.unstack()\n",
        "print(df_unstacked)\n"
      ],
      "metadata": {
        "id": "hako3YyXeS6g"
      },
      "execution_count": null,
      "outputs": []
    },
    {
      "cell_type": "markdown",
      "source": [
        "## Handling Categorical Data\n",
        "- Handling categorical data involves converting categorical variables into a format that can be used in statistical analysis or machine learning models. This often involves encoding categorical variables or converting them into numerical codes.\n",
        "\n",
        "- Categorical data refers to variables that represent categories or groups. This data type can include nominal categories (e.g., names of cities) and ordinal categories (e.g., ranking). Handling categorical data often involves converting these categories into numerical formats, such as integer codes or one-hot encoding, which can be more easily used in machine learning algorithms.\n",
        "\n",
        "Example:"
      ],
      "metadata": {
        "id": "2cUWOy9LeVNn"
      }
    },
    {
      "cell_type": "code",
      "source": [
        "import pandas as pd\n",
        "\n",
        "data = {\n",
        "    'Name': ['Bhagath', 'Bharath', 'Monika'],\n",
        "    'City': ['Bangalore', 'Chennai', 'Hyderabad']\n",
        "}\n",
        "df = pd.DataFrame(data)\n",
        "\n",
        "# Converting City column to categorical data type\n",
        "df['City'] = df['City'].astype('category')\n",
        "print(df.dtypes)\n"
      ],
      "metadata": {
        "id": "nt4fQzLxeb8T"
      },
      "execution_count": null,
      "outputs": []
    },
    {
      "cell_type": "code",
      "source": [
        "import pandas as pd\n",
        "\n",
        "data = {\n",
        "    'City': ['Bangalore', 'Chennai', 'Hyderabad']\n",
        "}\n",
        "df = pd.DataFrame(data)\n",
        "\n",
        "# One-Hot Encoding\n",
        "df_encoded = pd.get_dummies(df, columns=['City'])\n",
        "print(df_encoded)\n"
      ],
      "metadata": {
        "id": "XqvYv-AQesue"
      },
      "execution_count": null,
      "outputs": []
    },
    {
      "cell_type": "markdown",
      "source": [
        "\n",
        "\n",
        "#### **Types of Categorical Data**\n",
        "\n",
        "1. **Nominal Data**\n",
        "\n",
        "   - Nominal data represents categories without any intrinsic order. Examples include names, colors, or cities. Nominal data is purely qualitative and can be encoded as unique identifiers.\n",
        "\n",
        "   **Example:**\n",
        "\n",
        "   ```python\n",
        "   import pandas as pd\n",
        "\n",
        "   data = {\n",
        "       'City': ['Bangalore', 'Chennai', 'Hyderabad', 'Chennai']\n",
        "   }\n",
        "   df = pd.DataFrame(data)\n",
        "\n",
        "   # Converting City column to categorical data type\n",
        "   df['City'] = df['City'].astype('category')\n",
        "   print(df['City'].cat.categories)\n"
      ],
      "metadata": {
        "id": "fOiQ8KcMfC4Q"
      }
    },
    {
      "cell_type": "markdown",
      "source": [
        "2. **Ordinal Data**\n",
        "\n",
        "  - Ordinal data represents categories with a meaningful order but not necessarily a consistent difference between categories. Examples include ratings (e.g., low, medium, high) or education levels.\n",
        "\n",
        "Example:"
      ],
      "metadata": {
        "id": "TMXyL6h_fHns"
      }
    },
    {
      "cell_type": "code",
      "source": [
        "import pandas as pd\n",
        "\n",
        "data = {\n",
        "    'Education': ['High School', 'Bachelor', 'Master', 'PhD']\n",
        "}\n",
        "df = pd.DataFrame(data)\n",
        "\n",
        "# Defining the order of categories\n",
        "categories = ['High School', 'Bachelor', 'Master', 'PhD']\n",
        "df['Education'] = pd.Categorical(df['Education'], categories=categories, ordered=True)\n",
        "print(df['Education'].cat.categories)\n",
        "print(df['Education'].cat.ordered)\n"
      ],
      "metadata": {
        "id": "KiDW5kkCfQLN"
      },
      "execution_count": null,
      "outputs": []
    },
    {
      "cell_type": "markdown",
      "source": [
        "### Handling Categorical Data\n",
        "1. Label Encoding\n",
        "\n",
        "  -  Label encoding involves converting categorical values into numerical labels. This method assigns a unique integer to each category. It is useful for ordinal data where the order matters but may not be suitable for nominal data.\n",
        "\n",
        "Example:"
      ],
      "metadata": {
        "id": "ph6Ipm5Nfacn"
      }
    },
    {
      "cell_type": "code",
      "source": [
        "import pandas as pd\n",
        "from sklearn.preprocessing import LabelEncoder\n",
        "\n",
        "data = {\n",
        "    'Education': ['High School', 'Bachelor', 'Master', 'PhD']\n",
        "}\n",
        "df = pd.DataFrame(data)\n",
        "le = LabelEncoder()\n",
        "\n",
        "df['Education_encoded'] = le.fit_transform(df['Education'])\n",
        "print(df)\n"
      ],
      "metadata": {
        "id": "iKbYquLafe58"
      },
      "execution_count": null,
      "outputs": []
    },
    {
      "cell_type": "markdown",
      "source": [
        "2. One-Hot Encoding\n",
        "\n",
        "-  One-hot encoding transforms categorical variables into binary columns, where each column represents a category. This method is ideal for nominal data, as it does not assume any ordinal relationship between categories.\n",
        "\n",
        "Example:"
      ],
      "metadata": {
        "id": "vfCwL6fMfgd1"
      }
    },
    {
      "cell_type": "code",
      "source": [
        "import pandas as pd\n",
        "\n",
        "data = {\n",
        "    'City': ['Bangalore', 'Chennai', 'Hyderabad']\n",
        "}\n",
        "df = pd.DataFrame(data)\n",
        "\n",
        "# One-Hot Encoding\n",
        "df_encoded = pd.get_dummies(df, columns=['City'])\n",
        "print(df_encoded)\n"
      ],
      "metadata": {
        "id": "AOWj4VGlfjy4"
      },
      "execution_count": null,
      "outputs": []
    },
    {
      "cell_type": "markdown",
      "source": [
        "3. Frequency Encoding\n",
        "\n",
        "  -  Frequency encoding involves replacing categories with their frequency in the dataset. This method can be useful when the frequency of occurrence might be informative.\n",
        "\n",
        "Example:"
      ],
      "metadata": {
        "id": "i1ZJ0GcGfl32"
      }
    },
    {
      "cell_type": "code",
      "source": [
        "import pandas as pd\n",
        "\n",
        "data = {\n",
        "    'City': ['Bangalore', 'Chennai', 'Hyderabad', 'Chennai']\n",
        "}\n",
        "df = pd.DataFrame(data)\n",
        "\n",
        "# Frequency Encoding\n",
        "frequency = df['City'].value_counts()\n",
        "df['City_encoded'] = df['City'].map(frequency)\n",
        "print(df)\n"
      ],
      "metadata": {
        "id": "LDKe8jc1fpiU"
      },
      "execution_count": null,
      "outputs": []
    },
    {
      "cell_type": "markdown",
      "source": [
        "4. Target Encoding\n",
        "\n",
        "  -  Target encoding involves replacing categories with a mean of the target variable for each category. This method is often used in predictive modeling to incorporate the relationship between the categorical variable and the target variable.\n",
        "\n",
        "Example:"
      ],
      "metadata": {
        "id": "EiAa6d-bfsOR"
      }
    },
    {
      "cell_type": "code",
      "source": [
        "import pandas as pd\n",
        "\n",
        "data = {\n",
        "    'City': ['Bangalore', 'Chennai', 'Hyderabad', 'Chennai'],\n",
        "    'Target': [1, 0, 1, 0]\n",
        "}\n",
        "df = pd.DataFrame(data)\n",
        "\n",
        "# Target Encoding\n",
        "target_mean = df.groupby('City')['Target'].mean()\n",
        "df['City_encoded'] = df['City'].map(target_mean)\n",
        "print(df)\n"
      ],
      "metadata": {
        "id": "TMhWDvl7fuzL"
      },
      "execution_count": null,
      "outputs": []
    },
    {
      "cell_type": "markdown",
      "source": [
        "5. Custom Encoding\n",
        "\n",
        "  -  Custom encoding involves defining specific encoding rules based on domain knowledge or requirements. This approach allows for flexibility in how categories are represented numerically.\n",
        "\n",
        "Example:"
      ],
      "metadata": {
        "id": "OA-bcoY9fv3t"
      }
    },
    {
      "cell_type": "code",
      "source": [
        "import pandas as pd\n",
        "\n",
        "data = {\n",
        "    'City': ['Bangalore', 'Chennai', 'Hyderabad']\n",
        "}\n",
        "df = pd.DataFrame(data)\n",
        "\n",
        "# Custom Encoding\n",
        "city_encoding = {'Bangalore': 1, 'Chennai': 2, 'Hyderabad': 3}\n",
        "df['City_encoded'] = df['City'].map(city_encoding)\n",
        "print(df)\n"
      ],
      "metadata": {
        "id": "QailMEb7f0WM"
      },
      "execution_count": null,
      "outputs": []
    }
  ]
}