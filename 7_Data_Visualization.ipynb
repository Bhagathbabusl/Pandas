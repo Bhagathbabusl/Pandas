{
  "nbformat": 4,
  "nbformat_minor": 0,
  "metadata": {
    "colab": {
      "private_outputs": true,
      "provenance": []
    },
    "kernelspec": {
      "name": "python3",
      "display_name": "Python 3"
    },
    "language_info": {
      "name": "python"
    }
  },
  "cells": [
    {
      "cell_type": "markdown",
      "source": [
        "# 7. Data Visualization\n",
        "- Data visualization is essential for presenting data insights in an intuitive and understandable manner. Effective visualizations can reveal trends, patterns, and outliers in the data. This section covers basic plotting with pandas, as well as advanced visualizations using Matplotlib and Seaborn."
      ],
      "metadata": {
        "id": "2-yeSJUQsEgo"
      }
    },
    {
      "cell_type": "markdown",
      "source": [
        "## Basic Plotting with Pandas\n",
        "\n",
        "\n",
        "- Pandas offers built-in plotting capabilities through its integration with Matplotlib. This allows for quick and simple visualizations directly from DataFrames and Series. Basic plot types include line plots, histograms, and scatter plots. These plots are useful for exploring data distributions, relationships, and trends.\n",
        "\n",
        "- Plotting with plot(): The plot() function in pandas allows you to create various types of plots by specifying the kind parameter (e.g., 'line', 'hist', 'scatter').\n",
        "Histograms: Useful for showing the distribution of a single numeric variable.\n",
        "Scatter Plots: Used to visualize the relationship between two numeric variables.\n",
        "Line Plots: Ideal for visualizing trends over time or ordered data.\n",
        "\n",
        "\n",
        "\n",
        "Examples:"
      ],
      "metadata": {
        "id": "d4_mDV3IsISn"
      }
    },
    {
      "cell_type": "code",
      "execution_count": null,
      "metadata": {
        "collapsed": true,
        "id": "4lWv6kherj5C"
      },
      "outputs": [],
      "source": [
        "import pandas as pd\n",
        "import matplotlib.pyplot as plt\n",
        "\n",
        "# Sample data\n",
        "data = {\n",
        "    'Name': ['Bhagath', 'Bharath', 'Monika', 'Padhmavathi', 'Bhagath', 'Monika'],\n",
        "    'Age': [25, 30, 35, 28, 40, 50],\n",
        "    'City': ['Bangalore', 'Chennai', 'Hyderabad', 'Chickkaballapur', 'Bangalore', 'Hyderabad']\n",
        "}\n",
        "df = pd.DataFrame(data)\n",
        "\n",
        "# Line plot of Age\n",
        "df.plot(x='Name', y='Age', kind='line', marker='o')\n",
        "plt.title('Line Plot of Age')\n",
        "plt.xlabel('Name')\n",
        "plt.ylabel('Age')\n",
        "plt.grid(True)\n",
        "plt.show()\n",
        "\n",
        "# Histogram of Age\n",
        "df['Age'].plot(kind='hist', bins=5, color='skyblue', edgecolor='black')\n",
        "plt.title('Histogram of Age')\n",
        "plt.xlabel('Age')\n",
        "plt.ylabel('Frequency')\n",
        "plt.show()\n",
        "\n",
        "# Scatter plot of Age vs. City\n",
        "df['Age'].plot(kind='scatter', x='Name', y='Age', color='red')\n",
        "plt.title('Scatter Plot of Age by Name')\n",
        "plt.xlabel('Name')\n",
        "plt.ylabel('Age')\n",
        "plt.show()\n"
      ]
    },
    {
      "cell_type": "markdown",
      "source": [
        "#### Output:\n",
        "\n",
        "`- Line Plot:` Displays the trend of Age across different Names.\n",
        "Histogram: Shows the distribution of Age values.\n",
        "\n",
        "`- Scatter Plot:` Visualizes the relationship between Name and Age, though less meaningful in this case as 'Name' is categorical."
      ],
      "metadata": {
        "id": "vVkcT6XXsQ2y"
      }
    },
    {
      "cell_type": "markdown",
      "source": [
        "## Integration with Matplotlib and Seaborn\n",
        "\n",
        "\n",
        "- While pandas provides basic plotting capabilities, Matplotlib and Seaborn offer more advanced and customizable visualization options. Matplotlib is a comprehensive plotting library, while Seaborn is built on top of Matplotlib and provides additional functionalities and aesthetic improvements for statistical graphics.\n",
        "\n",
        "- Customizing Plots with Matplotlib: Matplotlib allows extensive customization of plots, including setting titles, labels, legends, and more. You can control colors, markers, line styles, and plot sizes.\n",
        "Advanced Visualizations with Seaborn: Seaborn simplifies the creation of complex plots like heatmaps, violin plots, and pair plots. It also integrates well with pandas DataFrames and enhances the aesthetics of visualizations.\n",
        "\n",
        "\n",
        "Examples:"
      ],
      "metadata": {
        "id": "ucItyeOKsdA7"
      }
    },
    {
      "cell_type": "code",
      "source": [
        "import seaborn as sns\n",
        "\n",
        "# Sample data\n",
        "data = {\n",
        "    'Name': ['Bhagath', 'Bharath', 'Monika', 'Padhmavathi', 'Bhagath', 'Monika'],\n",
        "    'Age': [25, 30, 35, 28, 40, 50],\n",
        "    'City': ['Bangalore', 'Chennai', 'Hyderabad', 'Chickkaballapur', 'Bangalore', 'Hyderabad']\n",
        "}\n",
        "df = pd.DataFrame(data)\n",
        "\n",
        "# Advanced scatter plot with Seaborn\n",
        "sns.scatterplot(data=df, x='Name', y='Age', hue='City', palette='viridis', s=100)\n",
        "plt.title('Scatter Plot of Age by Name and City')\n",
        "plt.xlabel('Name')\n",
        "plt.ylabel('Age')\n",
        "plt.show()\n",
        "\n",
        "# Heatmap of Age by City\n",
        "age_city = df.pivot_table(index='City', values='Age', aggfunc='mean')\n",
        "sns.heatmap(age_city, annot=True, cmap='coolwarm', cbar=True)\n",
        "plt.title('Heatmap of Average Age by City')\n",
        "plt.xlabel('Age')\n",
        "plt.ylabel('City')\n",
        "plt.show()\n",
        "\n",
        "# Pair plot of Age\n",
        "sns.pairplot(df, hue='City', palette='pastel')\n",
        "plt.title('Pair Plot of Age by City')\n",
        "plt.show()\n"
      ],
      "metadata": {
        "id": "e0-JQjoSshe5"
      },
      "execution_count": null,
      "outputs": []
    },
    {
      "cell_type": "markdown",
      "source": [
        "### Output:\n",
        "\n",
        "- `Advanced Scatter Plot:` Shows Age distribution across different Names with color-coding based on City.\n",
        "- `Heatmap:` Displays the average Age for each City, using color intensity to represent values.\n",
        "- `Pair Plot:` Illustrates relationships between variables and their distributions across different Cities."
      ],
      "metadata": {
        "id": "MzzqAUOesiBE"
      }
    },
    {
      "cell_type": "markdown",
      "source": [
        "## Matplotlib"
      ],
      "metadata": {
        "id": "PiXCI8CBs6Q0"
      }
    },
    {
      "cell_type": "markdown",
      "source": [
        "### 1. Introduction to Matplotlib\n",
        "\n",
        "- Matplotlib is a plotting library that can produce high-quality graphs and plots. It is highly customizable and supports various backends and formats. The core component of Matplotlib is pyplot, which provides a MATLAB-like interface for creating plots.\n",
        "\n",
        " - `Installation:` To use Matplotlib, you need to install it via pip.\n",
        " ```python\n",
        " pip install matplotlib\n",
        "\n",
        "\n",
        " - Basic Concepts:\n",
        "\n",
        "    - Figure: The entire window or image where plotting takes place.\n",
        "    - Axes: The area within the figure where the data is plotted (i.e., the actual graph).\n",
        "    - Artist: Everything you see on the figure (e.g., lines, labels, markers).\n",
        "\n",
        "    Examples:\n"
      ],
      "metadata": {
        "id": "10-4rTYBs-OI"
      }
    },
    {
      "cell_type": "code",
      "source": [
        "import matplotlib.pyplot as plt\n",
        "\n",
        "# Creating a simple line plot\n",
        "x = [1, 2, 3, 4, 5]\n",
        "y = [2, 3, 5, 7, 11]\n",
        "\n",
        "plt.plot(x, y, marker='o')  # Plot with circles at data points\n",
        "plt.title('Simple Line Plot')\n",
        "plt.xlabel('X-axis')\n",
        "plt.ylabel('Y-axis')\n",
        "plt.grid(True)\n",
        "plt.show()\n"
      ],
      "metadata": {
        "id": "sj9StI8PtTq-"
      },
      "execution_count": null,
      "outputs": []
    },
    {
      "cell_type": "markdown",
      "source": [
        "## 2. Basic Plot Types\n",
        "\n",
        "\n",
        "- Matplotlib supports various plot types for different data visualization needs. Some of the most common plots are line plots, bar plots, scatter plots, and histograms.\n",
        "\n",
        "  - `Line Plot:` Useful for showing trends over time or continuous data.\n",
        "  - `Bar Plot:` Ideal for comparing quantities across different categories.\n",
        "  - `Scatter Plot:` Great for visualizing relationships between two numeric variables.\n",
        "  - `Histogram:` Useful for showing the distribution of a numeric variable.\n",
        "\n",
        "  \n",
        "Examples:"
      ],
      "metadata": {
        "id": "A-R6QIditWj7"
      }
    },
    {
      "cell_type": "code",
      "source": [
        "import matplotlib.pyplot as plt\n",
        "\n",
        "# Line Plot\n",
        "x = [1, 2, 3, 4, 5]\n",
        "y = [2, 3, 5, 7, 11]\n",
        "plt.plot(x, y, label='Line Plot', color='blue')\n",
        "plt.legend()\n",
        "plt.show()\n",
        "\n",
        "# Bar Plot\n",
        "categories = ['A', 'B', 'C', 'D']\n",
        "values = [10, 20, 15, 25]\n",
        "plt.bar(categories, values, color='green')\n",
        "plt.xlabel('Categories')\n",
        "plt.ylabel('Values')\n",
        "plt.title('Bar Plot')\n",
        "plt.show()\n",
        "\n",
        "# Scatter Plot\n",
        "x = [1, 2, 3, 4, 5]\n",
        "y = [2, 3, 5, 7, 11]\n",
        "plt.scatter(x, y, color='red')\n",
        "plt.xlabel('X-axis')\n",
        "plt.ylabel('Y-axis')\n",
        "plt.title('Scatter Plot')\n",
        "plt.show()\n",
        "\n",
        "# Histogram\n",
        "data = [1, 2, 2, 3, 4, 4, 4, 5, 6, 7]\n",
        "plt.hist(data, bins=5, color='purple', edgecolor='black')\n",
        "plt.xlabel('Bins')\n",
        "plt.ylabel('Frequency')\n",
        "plt.title('Histogram')\n",
        "plt.show()\n"
      ],
      "metadata": {
        "id": "ZEeymvj9tjg-"
      },
      "execution_count": null,
      "outputs": []
    },
    {
      "cell_type": "markdown",
      "source": [
        "###  3. Customizing Plots\n",
        "\n",
        "\n",
        "- Matplotlib allows extensive customization of plots to improve readability and aesthetics. You can adjust colors, line styles, markers, and more. Customizing plots helps in tailoring the visualizations to specific needs and enhancing their interpretability.\n",
        "\n",
        "Examples:"
      ],
      "metadata": {
        "id": "m5zotJ5Ntm0O"
      }
    },
    {
      "cell_type": "code",
      "source": [
        "import matplotlib.pyplot as plt\n",
        "\n",
        "# Customized Line Plot\n",
        "x = [1, 2, 3, 4, 5]\n",
        "y = [2, 3, 5, 7, 11]\n",
        "plt.plot(x, y, marker='o', linestyle='--', color='magenta', linewidth=2, markersize=10)\n",
        "plt.title('Customized Line Plot')\n",
        "plt.xlabel('X-axis')\n",
        "plt.ylabel('Y-axis')\n",
        "plt.grid(True)\n",
        "plt.show()\n",
        "\n",
        "# Customized Bar Plot\n",
        "categories = ['A', 'B', 'C', 'D']\n",
        "values = [10, 20, 15, 25]\n",
        "plt.bar(categories, values, color=['cyan', 'yellow', 'orange', 'green'], edgecolor='black', hatch='//')\n",
        "plt.xlabel('Categories')\n",
        "plt.ylabel('Values')\n",
        "plt.title('Customized Bar Plot')\n",
        "plt.show()\n"
      ],
      "metadata": {
        "id": "NOm2m94ltrd3"
      },
      "execution_count": null,
      "outputs": []
    },
    {
      "cell_type": "markdown",
      "source": [
        "### 4. Creating Subplots\n",
        "\n",
        "\n",
        "- Subplots allow you to display multiple plots in a single figure. This is useful for comparing different datasets or visualizing multiple aspects of a single dataset. You can create subplots using the subplot() function or subplots() function for more complex layouts.\n",
        "\n",
        "Examples:"
      ],
      "metadata": {
        "id": "x-cihIiRtsMl"
      }
    },
    {
      "cell_type": "code",
      "source": [
        "import matplotlib.pyplot as plt\n",
        "\n",
        "# Creating Subplots\n",
        "fig, axs = plt.subplots(2, 2, figsize=(10, 8))\n",
        "\n",
        "# Line Plot\n",
        "axs[0, 0].plot([1, 2, 3], [4, 5, 6], 'tab:blue')\n",
        "axs[0, 0].set_title('Line Plot')\n",
        "\n",
        "# Bar Plot\n",
        "axs[0, 1].bar(['A', 'B', 'C'], [10, 20, 15], color='orange')\n",
        "axs[0, 1].set_title('Bar Plot')\n",
        "\n",
        "# Scatter Plot\n",
        "axs[1, 0].scatter([1, 2, 3], [4, 5, 6], color='red')\n",
        "axs[1, 0].set_title('Scatter Plot')\n",
        "\n",
        "# Histogram\n",
        "axs[1, 1].hist([1, 2, 2, 3, 4, 4, 4, 5], bins=5, color='purple')\n",
        "axs[1, 1].set_title('Histogram')\n",
        "\n",
        "plt.tight_layout()\n",
        "plt.show()\n"
      ],
      "metadata": {
        "id": "MXk6jEuxt0uP"
      },
      "execution_count": null,
      "outputs": []
    },
    {
      "cell_type": "markdown",
      "source": [
        "### 5. Saving Figures\n",
        "\n",
        "\n",
        "- Matplotlib allows you to save figures in various formats (e.g., PNG, PDF, SVG) using the savefig() function. This is useful for exporting plots for reports, publications, or presentations.\n",
        "\n",
        "Examples:"
      ],
      "metadata": {
        "id": "md2yHAL7t2nc"
      }
    },
    {
      "cell_type": "code",
      "source": [
        "import matplotlib.pyplot as plt\n",
        "\n",
        "# Creating a simple plot\n",
        "x = [1, 2, 3, 4, 5]\n",
        "y = [2, 3, 5, 7, 11]\n",
        "plt.plot(x, y, marker='o', color='blue')\n",
        "plt.title('Line Plot')\n",
        "plt.xlabel('X-axis')\n",
        "plt.ylabel('Y-axis')\n",
        "\n",
        "# Saving the plot\n",
        "plt.savefig('line_plot.png', dpi=300)\n",
        "plt.savefig('line_plot.pdf')\n",
        "plt.show()\n"
      ],
      "metadata": {
        "id": "3Lzprf0kt5wP"
      },
      "execution_count": null,
      "outputs": []
    },
    {
      "cell_type": "markdown",
      "source": [
        "# Seaborn\n",
        "- Seaborn is a Python visualization library based on Matplotlib that provides a high-level interface for drawing attractive and informative statistical graphics. It is particularly well-suited for data exploration and statistical analysis. Seaborn integrates closely with Pandas data structures and is known for its attractive default styles and color palettes."
      ],
      "metadata": {
        "id": "4ZYhQ3qXt-8a"
      }
    },
    {
      "cell_type": "markdown",
      "source": [
        "### 1. Introduction to Seaborn\n",
        "\n",
        "\n",
        "- Seaborn builds on Matplotlib and provides a higher-level interface for drawing statistical plots. It simplifies the creation of complex visualizations and supports data-driven visualizations with ease. Seaborn is designed to work seamlessly with Pandas DataFrames and Series, making it a powerful tool for data analysis and visualization.\n",
        "\n",
        "  - `Installation:` To use Seaborn, you need to install it via pip.\n",
        "  ```python\n",
        "  pip install seaborn\n",
        "\n",
        "\n",
        "\n",
        "#### Basic Concepts:\n",
        "\n",
        "- ` Axes: `Similar to Matplotlib, Seaborn plots are drawn on Axes.\n",
        "- `Data:` Seaborn functions work directly with Pandas DataFrames, allowing for easy data manipulation and visualization.\n",
        "\n",
        "\n",
        "\n",
        "Examples:"
      ],
      "metadata": {
        "id": "yxUHefvLuEEA"
      }
    },
    {
      "cell_type": "code",
      "source": [
        "import seaborn as sns\n",
        "import matplotlib.pyplot as plt\n",
        "\n",
        "# Load a sample dataset\n",
        "data = sns.load_dataset('iris')\n",
        "\n",
        "# Creating a basic scatter plot\n",
        "sns.scatterplot(data=data, x='sepal_length', y='sepal_width', hue='species')\n",
        "plt.title('Scatter Plot of Sepal Length vs Sepal Width')\n",
        "plt.show()\n"
      ],
      "metadata": {
        "id": "cwUnDCtHuT_k"
      },
      "execution_count": null,
      "outputs": []
    },
    {
      "cell_type": "markdown",
      "source": [
        "### 2. Basic Plot Types\n",
        "\n",
        "\n",
        "- Seaborn provides several types of plots that are commonly used in data analysis and exploration. Some of the basic plot types include:\n",
        "\n",
        "  - `Scatter Plot:` Useful for visualizing relationships between two numeric variables.\n",
        "  - `Line Plot:` Useful for showing trends over time or continuous data.\n",
        "  - `Bar Plot:` Ideal for comparing quantities across different categories.\n",
        "  - `Histogram:` Useful for showing the distribution of a numeric variable.\n",
        "  - `Box Plot:` Useful for visualizing the distribution and spread of data, including outliers.\n",
        "\n",
        "\n",
        "Examples:"
      ],
      "metadata": {
        "id": "qgER77vTuW2J"
      }
    },
    {
      "cell_type": "code",
      "source": [
        "import seaborn as sns\n",
        "import matplotlib.pyplot as plt\n",
        "\n",
        "# Load a sample dataset\n",
        "data = sns.load_dataset('titanic')\n",
        "\n",
        "# Line Plot\n",
        "sns.lineplot(data=data, x='age', y='fare', hue='class')\n",
        "plt.title('Line Plot of Age vs Fare by Class')\n",
        "plt.show()\n",
        "\n",
        "# Bar Plot\n",
        "sns.barplot(data=data, x='class', y='fare')\n",
        "plt.title('Bar Plot of Average Fare by Class')\n",
        "plt.show()\n",
        "\n",
        "# Histogram\n",
        "sns.histplot(data=data, x='age', bins=20, kde=True)\n",
        "plt.title('Histogram of Age Distribution')\n",
        "plt.show()\n",
        "\n",
        "# Box Plot\n",
        "sns.boxplot(data=data, x='class', y='age')\n",
        "plt.title('Box Plot of Age by Class')\n",
        "plt.show()\n"
      ],
      "metadata": {
        "id": "41TIXKjMujsZ"
      },
      "execution_count": null,
      "outputs": []
    },
    {
      "cell_type": "markdown",
      "source": [
        "## 3. Customizing Plots\n",
        "\n",
        "\n",
        "-  Seaborn allows extensive customization of plots to enhance their appearance and make them more informative. You can customize aspects such as colors, markers, and styles. Seaborn also provides several themes and color palettes to improve the visual appeal of your plots.\n",
        "\n",
        "Examples:\n"
      ],
      "metadata": {
        "id": "mFEdV7tYungb"
      }
    },
    {
      "cell_type": "code",
      "source": [
        "import seaborn as sns\n",
        "import matplotlib.pyplot as plt\n",
        "\n",
        "# Load a sample dataset\n",
        "data = sns.load_dataset('tips')\n",
        "\n",
        "# Setting the style\n",
        "sns.set(style='whitegrid')\n",
        "\n",
        "# Customizing the scatter plot\n",
        "sns.scatterplot(data=data, x='total_bill', y='tip', hue='day', style='time', palette='deep')\n",
        "plt.title('Customized Scatter Plot of Total Bill vs Tip')\n",
        "plt.show()\n",
        "\n",
        "# Customizing the bar plot\n",
        "sns.barplot(data=data, x='day', y='total_bill', palette='coolwarm', ci=None)\n",
        "plt.title('Customized Bar Plot of Total Bill by Day')\n",
        "plt.show()\n"
      ],
      "metadata": {
        "id": "P0sZQWTduxWM"
      },
      "execution_count": null,
      "outputs": []
    },
    {
      "cell_type": "markdown",
      "source": [
        "## 4. Advanced Visualizations\n",
        "\n",
        "- Seaborn provides advanced visualization techniques that are especially useful for statistical analysis and data exploration. These include:\n",
        "\n",
        "  - `Pair Plots:` Useful for visualizing pairwise relationships in a dataset.\n",
        "  - `Heatmaps:` Useful for displaying matrix data and correlations.\n",
        "  - `Facet Grids:` Useful for creating multi-plot grids based on categorical variables.\n",
        "\n",
        "\n",
        "Examples:"
      ],
      "metadata": {
        "id": "Ox9-VIbruzPc"
      }
    },
    {
      "cell_type": "code",
      "source": [
        "import seaborn as sns\n",
        "import matplotlib.pyplot as plt\n",
        "\n",
        "# Load a sample dataset\n",
        "data = sns.load_dataset('flights')\n",
        "\n",
        "# Pair Plot\n",
        "sns.pairplot(data=sns.load_dataset('iris'), hue='species')\n",
        "plt.show()\n",
        "\n",
        "# Heatmap\n",
        "corr = data.corr()\n",
        "sns.heatmap(corr, annot=True, cmap='coolwarm')\n",
        "plt.title('Heatmap of Correlations')\n",
        "plt.show()\n",
        "\n",
        "# Facet Grid\n",
        "g = sns.FacetGrid(data=data, col='sex', row='time')\n",
        "g.map_dataframe(sns.scatterplot, x='total_bill', y='tip')\n",
        "g.add_legend()\n",
        "plt.show()\n"
      ],
      "metadata": {
        "id": "3fmI5IiVu7nI"
      },
      "execution_count": null,
      "outputs": []
    },
    {
      "cell_type": "markdown",
      "source": [
        "## 5. Integration with Pandas\n",
        "\n",
        "- Seaborn integrates smoothly with Pandas DataFrames and Series, making it easy to create visualizations directly from DataFrame objects. This integration allows you to leverage Pandas' data manipulation capabilities in conjunction with Seaborn's powerful visualization features.\n",
        "\n",
        "Examples:"
      ],
      "metadata": {
        "id": "d4iLcFpou9df"
      }
    },
    {
      "cell_type": "code",
      "source": [
        "import seaborn as sns\n",
        "import pandas as pd\n",
        "import matplotlib.pyplot as plt\n",
        "\n",
        "# Creating a DataFrame\n",
        "data = pd.DataFrame({\n",
        "    'Name': ['Bhagath', 'Bharath', 'Monika', 'Padhmavathi'],\n",
        "    'Age': [25, 30, 35, 28],\n",
        "    'City': ['Bangalore', 'Chennai', 'Hyderabad', 'Chickkaballapur']\n",
        "})\n",
        "\n",
        "# Plotting with Seaborn\n",
        "sns.barplot(data=data, x='City', y='Age', palette='Set1')\n",
        "plt.title('Bar Plot of Age by City')\n",
        "plt.show()\n"
      ],
      "metadata": {
        "id": "RRQ22u2svB_0"
      },
      "execution_count": null,
      "outputs": []
    },
    {
      "cell_type": "markdown",
      "source": [
        "\n",
        "# Plotly\n",
        "\n",
        "- Plotly is an interactive graphing library that allows for the creation of rich, interactive visualizations. It provides a high-level interface for creating complex plots with interactivity and customization. Plotly integrates with Pandas and can be used to generate interactive plots directly from data frames."
      ],
      "metadata": {
        "id": "UvJ0Wn-ZvHPZ"
      }
    },
    {
      "cell_type": "markdown",
      "source": [
        "## 1. Introduction to Plotly\n",
        "\n",
        "\n",
        "- Plotly is designed for creating interactive plots that can be embedded in web applications, notebooks, and dashboards. Unlike static plots, Plotly graphs support zooming, panning, and hovering to reveal additional information. Plotly supports a wide range of plot types, including line charts, scatter plots, bar charts, and more complex visualizations like heatmaps and 3D plots.\n",
        "\n",
        "  - `Installation:` To use Plotly, you need to install it via pip.\n",
        "  ```python\n",
        "  pip install plotly\n",
        "\n",
        "\n",
        "#### Basic Concepts:\n",
        "\n",
        "  - `Figures:` Plotly plots are represented by Figure objects.\n",
        "  - `Traces:` These are the components of a plot, representing data series.\n",
        "  - `Layouts:` Define the appearance and layout of the plot.\n",
        "\n",
        "\n",
        "  \n",
        "Examples:"
      ],
      "metadata": {
        "id": "HNfgPDRlvK9_"
      }
    },
    {
      "cell_type": "code",
      "source": [
        "import plotly.express as px\n",
        "import pandas as pd\n",
        "\n",
        "# Load a sample dataset\n",
        "data = pd.DataFrame({\n",
        "    'Name': ['Bhagath', 'Bharath', 'Monika', 'Padhmavathi'],\n",
        "    'Age': [25, 30, 35, 28],\n",
        "    'City': ['Bangalore', 'Chennai', 'Hyderabad', 'Chickkaballapur']\n",
        "})\n",
        "\n",
        "# Creating a scatter plot\n",
        "fig = px.scatter(data, x='Age', y='City', color='Name', title='Scatter Plot of Age by City')\n",
        "fig.show()\n"
      ],
      "metadata": {
        "id": "wiLvx6livePu"
      },
      "execution_count": null,
      "outputs": []
    },
    {
      "cell_type": "markdown",
      "source": [
        "## 2. Basic Plot Types\n",
        "\n",
        "\n",
        "- Plotly supports a wide variety of plot types. Some of the basic plot types include:\n",
        "\n",
        "  - `Line Plot:` Useful for showing trends over time or continuous data.\n",
        "  - `Scatter Plot:` Useful for visualizing the relationship between two numeric variables.\n",
        "  - `Bar Plot: `Ideal for comparing quantities across different categories.\n",
        " -` Histogram:` Useful for showing the distribution of a numeric variable.\n",
        "  - `Box Plot:` Useful for visualizing the distribution and spread of data, including outliers.\n",
        "\n",
        "\n",
        "Examples:"
      ],
      "metadata": {
        "id": "vx9-YoNOvf8K"
      }
    },
    {
      "cell_type": "code",
      "source": [
        "import plotly.express as px\n",
        "import pandas as pd\n",
        "\n",
        "# Load a sample dataset\n",
        "data = px.data.tips()\n",
        "\n",
        "# Line Plot\n",
        "fig = px.line(data, x='total_bill', y='tip', color='day', title='Line Plot of Total Bill vs Tip')\n",
        "fig.show()\n",
        "\n",
        "# Bar Plot\n",
        "fig = px.bar(data, x='day', y='total_bill', title='Bar Plot of Total Bill by Day')\n",
        "fig.show()\n",
        "\n",
        "# Histogram\n",
        "fig = px.histogram(data, x='total_bill', nbins=30, title='Histogram of Total Bill Distribution')\n",
        "fig.show()\n",
        "\n",
        "# Box Plot\n",
        "fig = px.box(data, x='day', y='total_bill', title='Box Plot of Total Bill by Day')\n",
        "fig.show()\n"
      ],
      "metadata": {
        "id": "TMDNdzB1vue6"
      },
      "execution_count": null,
      "outputs": []
    },
    {
      "cell_type": "markdown",
      "source": [
        "## 3. Customizing Plots\n",
        "\n",
        "\n",
        "- Plotly provides extensive customization options to enhance the appearance and functionality of plots. You can customize aspects such as colors, markers, axes, and titles. Plotly's interactive features can also be fine-tuned to improve the user experience.\n",
        "\n",
        "Examples:"
      ],
      "metadata": {
        "id": "K3chPmfMvwGn"
      }
    },
    {
      "cell_type": "code",
      "source": [
        "import plotly.express as px\n",
        "import pandas as pd\n",
        "\n",
        "# Load a sample dataset\n",
        "data = px.data.iris()\n",
        "\n",
        "# Customizing the scatter plot\n",
        "fig = px.scatter(data, x='sepal_width', y='sepal_length', color='species', symbol='species', size='petal_length',\n",
        "                 title='Customized Scatter Plot of Sepal Width vs Sepal Length')\n",
        "fig.update_layout(\n",
        "    xaxis_title='Sepal Width (cm)',\n",
        "    yaxis_title='Sepal Length (cm)',\n",
        "    legend_title='Species'\n",
        ")\n",
        "fig.show()\n",
        "\n",
        "# Customizing the bar plot\n",
        "fig = px.bar(data, x='species', y='petal_length', color='species', text='petal_length',\n",
        "             title='Customized Bar Plot of Petal Length by Species')\n",
        "fig.update_traces(texttemplate='%{text:.2s}', textposition='outside')\n",
        "fig.update_layout(yaxis_title='Petal Length (cm)')\n",
        "fig.show()\n"
      ],
      "metadata": {
        "id": "Ps_wxdTFv308"
      },
      "execution_count": null,
      "outputs": []
    },
    {
      "cell_type": "markdown",
      "source": [
        "## 4. Advanced Visualizations\n",
        "\n",
        "\n",
        "- Plotly offers advanced visualization capabilities that go beyond basic plots. These include:\n",
        "\n",
        "  - `3D Plots: `Useful for visualizing three-dimensional data.\n",
        "  - `Heatmaps:` Useful for displaying matrix data and correlations.\n",
        "  - `Subplots:` Useful for creating multiple plots in a single figure.\n",
        "  - `Geospatial Maps: `Useful for visualizing data on geographical maps.\n",
        "\n",
        "\n",
        "Examples:"
      ],
      "metadata": {
        "id": "7_crX71Fv6qL"
      }
    },
    {
      "cell_type": "code",
      "source": [
        "import plotly.express as px\n",
        "import pandas as pd\n",
        "\n",
        "# Load a sample dataset\n",
        "data = px.data.gapminder()\n",
        "\n",
        "# 3D Scatter Plot\n",
        "fig = px.scatter_3d(data, x='gdpPercap', y='lifeExp', z='pop', color='continent', size='pop',\n",
        "                    title='3D Scatter Plot of GDP per Capita, Life Expectancy, and Population')\n",
        "fig.show()\n",
        "\n",
        "# Heatmap\n",
        "data_corr = px.data.iris().corr()\n",
        "fig = px.imshow(data_corr, text_auto=True, color_continuous_scale='Viridis', title='Heatmap of Feature Correlations')\n",
        "fig.show()\n",
        "\n",
        "# Subplots\n",
        "from plotly.subplots import make_subplots\n",
        "import plotly.graph_objects as go\n",
        "\n",
        "fig = make_subplots(rows=1, cols=2, subplot_titles=('Scatter Plot', 'Bar Plot'))\n",
        "fig.add_trace(go.Scatter(x=data['total_bill'], y=data['tip'], mode='markers', name='Scatter Plot'), row=1, col=1)\n",
        "fig.add_trace(go.Bar(x=data['day'], y=data['total_bill'], name='Bar Plot'), row=1, col=2)\n",
        "fig.update_layout(title='Subplots Example')\n",
        "fig.show()\n",
        "\n",
        "# Geospatial Map\n",
        "data = px.data.carshare()\n",
        "fig = px.scatter_mapbox(data, lat='lat', lon='lon', color='peak', size='car_hours',\n",
        "                       mapbox_style='carto-positron', title='Geospatial Map of Carshare Data')\n",
        "fig.show()\n"
      ],
      "metadata": {
        "id": "vDbcutbVwFp9"
      },
      "execution_count": null,
      "outputs": []
    },
    {
      "cell_type": "markdown",
      "source": [
        "## 5. Integration with Pandas\n",
        "\n",
        "\n",
        "- Plotly integrates seamlessly with Pandas DataFrames and Series, allowing you to create interactive plots directly from Pandas data structures. This integration simplifies the process of visualizing data and enhances the capabilities of your data analysis workflow.\n",
        "\n",
        "Examples:"
      ],
      "metadata": {
        "id": "SNPy2mt2wJD1"
      }
    },
    {
      "cell_type": "code",
      "source": [
        "import plotly.express as px\n",
        "import pandas as pd\n",
        "\n",
        "# Creating a DataFrame\n",
        "data = pd.DataFrame({\n",
        "    'Name': ['Bhagath', 'Bharath', 'Monika', 'Padhmavathi'],\n",
        "    'Age': [25, 30, 35, 28],\n",
        "    'City': ['Bangalore', 'Chennai', 'Hyderabad', 'Chickkaballapur']\n",
        "})\n",
        "\n",
        "# Creating a bar plot with Plotly\n",
        "fig = px.bar(data, x='City', y='Age', color='Name', title='Bar Plot of Age by City')\n",
        "fig.show()\n"
      ],
      "metadata": {
        "id": "uupzqcm4wHq4"
      },
      "execution_count": null,
      "outputs": []
    },
    {
      "cell_type": "markdown",
      "source": [],
      "metadata": {
        "id": "74svRRM4wNhg"
      }
    }
  ]
}