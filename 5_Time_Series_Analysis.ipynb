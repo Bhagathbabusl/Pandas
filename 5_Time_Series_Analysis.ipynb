{
  "nbformat": 4,
  "nbformat_minor": 0,
  "metadata": {
    "colab": {
      "private_outputs": true,
      "provenance": []
    },
    "kernelspec": {
      "name": "python3",
      "display_name": "Python 3"
    },
    "language_info": {
      "name": "python"
    }
  },
  "cells": [
    {
      "cell_type": "markdown",
      "source": [
        "# 5. Time Series Analysis\n",
        "- Time series analysis involves methods for analyzing time-ordered data. Pandas provides comprehensive tools for handling and analyzing time series data, which is essential for applications in finance, economics, and various fields requiring time-dependent analysis.\n",
        "\n",
        "### Date and Time Handling\n",
        "**1. Parsing Dates**\n",
        "\n",
        "Theory: Parsing dates is the process of converting date and time information from strings into pandas datetime objects. This conversion is crucial for performing time-based operations, comparisons, and manipulations. Pandas provides flexible functions to parse dates from various formats, allowing for efficient date handling.\n",
        "\n",
        "#### Common Date Formats:\n",
        "\n",
        "- `'YYYY-MM-DD'`\n",
        "\n",
        "- `'MM/DD/YYYY'`\n",
        "\n",
        "- `'DD-MM-YYYY'`\n",
        "\n",
        "Example:"
      ],
      "metadata": {
        "id": "oK4cw9Yplv8z"
      }
    },
    {
      "cell_type": "code",
      "source": [
        "import pandas as pd\n",
        "\n",
        "# Example data with date strings\n",
        "data = {\n",
        "    'Date': ['2024-01-01', '2024-01-02', '2024-01-03'],\n",
        "    'Value': [10, 20, 30]\n",
        "}\n",
        "df = pd.DataFrame(data)\n",
        "\n",
        "# Parsing dates\n",
        "df['Date'] = pd.to_datetime(df['Date'])\n",
        "print(df)\n"
      ],
      "metadata": {
        "id": "W3U_6OaQmGGF"
      },
      "execution_count": null,
      "outputs": []
    },
    {
      "cell_type": "markdown",
      "source": [
        "**2. Date Ranges and Frequency**\n",
        "\n",
        "-  Date ranges and frequency are used to generate sequences of dates at specified intervals. This is useful for creating time series data with a consistent frequency, such as daily, monthly, or yearly intervals. Pandas provides functions like date_range() to create these sequences and specify frequencies.\n",
        "\n",
        "#### Common Frequencies:\n",
        "\n",
        "`'D'`: Daily\n",
        "\n",
        "`'W'`: Weekly\n",
        "\n",
        "`'M'`: Monthly\n",
        "\n",
        "`'Q'`: Quarterly\n",
        "\n",
        "`'A'`: Annually\n",
        "\n",
        "\n",
        "\n",
        "Example:"
      ],
      "metadata": {
        "id": "EY1FpQ5rmJzq"
      }
    },
    {
      "cell_type": "code",
      "source": [
        "import pandas as pd\n",
        "\n",
        "# Generate a date range with daily frequency\n",
        "date_range = pd.date_range(start='2024-01-01', end='2024-01-10', freq='D')\n",
        "print(date_range)\n"
      ],
      "metadata": {
        "id": "8UUcetOpmRx1"
      },
      "execution_count": null,
      "outputs": []
    },
    {
      "cell_type": "markdown",
      "source": [
        "## Time Series Data\n",
        "**1. Resampling and Frequency Conversion**\n",
        "\n",
        "-  Resampling is the process of changing the frequency of your time series data. For example, converting daily data into monthly or yearly summaries. Pandas provides methods for resampling, which allow you to aggregate or interpolate data to a different frequency.\n",
        "\n",
        "#### Resampling Methods:\n",
        "\n",
        "- `Aggregation:` Summarizing data over new time periods, e.g., daily to monthly.\n",
        "- `Downsampling:` Reducing the frequency, e.g., from minute-level to hourly.\n",
        "- `Upsampling:` Increasing the frequency, e.g., from daily to hourly, often requiring interpolation.\n",
        "\n",
        "\n",
        "\n",
        "Example:\n"
      ],
      "metadata": {
        "id": "IRDOxa-JmTFj"
      }
    },
    {
      "cell_type": "code",
      "source": [
        "import pandas as pd\n",
        "\n",
        "# Create a time series with daily frequency\n",
        "date_range = pd.date_range(start='2024-01-01', periods=10, freq='D')\n",
        "df = pd.DataFrame({'Value': range(10)}, index=date_range)\n",
        "\n",
        "# Resample to monthly frequency and calculate mean\n",
        "df_resampled = df.resample('M').mean()\n",
        "print(df_resampled)\n"
      ],
      "metadata": {
        "id": "fd2AcyF_mo3v"
      },
      "execution_count": null,
      "outputs": []
    },
    {
      "cell_type": "markdown",
      "source": [
        "**2. Rolling Window Calculations**\n",
        "\n",
        "-  Rolling window calculations involve applying a function (e.g., mean, sum) to a moving window of data. This technique is used to smooth time series data and compute statistics over a rolling period, such as a moving average.\n",
        "\n",
        "#### Types of Rolling Calculations:\n",
        "\n",
        "- `Rolling Mean:` Computes the average within the window.\n",
        "- `Rolling Sum:` Computes the sum within the window.\n",
        "-  `Rolling Standard Deviation:` Measures the variability within the window.\n",
        "\n",
        "\n",
        "Example:"
      ],
      "metadata": {
        "id": "hA8iv--0mpqS"
      }
    },
    {
      "cell_type": "code",
      "source": [
        "import pandas as pd\n",
        "\n",
        "# Create a time series with daily frequency\n",
        "date_range = pd.date_range(start='2024-01-01', periods=10, freq='D')\n",
        "df = pd.DataFrame({'Value': range(10)}, index=date_range)\n",
        "\n",
        "# Calculate a 3-day rolling mean\n",
        "df['Rolling_Mean'] = df['Value'].rolling(window=3).mean()\n",
        "print(df)\n"
      ],
      "metadata": {
        "id": "-tIQbmt_mvqW"
      },
      "execution_count": null,
      "outputs": []
    },
    {
      "cell_type": "markdown",
      "source": [
        "** 3. Time Zone Handling**\n",
        "\n",
        "- + Time zone handling is crucial when working with time series data across different time zones. Pandas allows you to localize timestamps to specific time zones and convert between time zones, ensuring that your time series analysis is accurate regardless of geographic location.\n",
        "\n",
        "\n",
        "#### Types of Time Zone Operations:\n",
        "\n",
        "- `Localization:` Assigning a time zone to naive datetime objects.\n",
        "- `Conversion:` Changing the time zone of datetime objects to a different time zone.\n",
        "\n",
        "\n",
        "Example:"
      ],
      "metadata": {
        "id": "2b_5l1wVmwzb"
      }
    },
    {
      "cell_type": "code",
      "source": [
        "import pandas as pd\n",
        "\n",
        "# Create a time series with naive datetime (no time zone information)\n",
        "date_range = pd.date_range(start='2024-01-01', periods=3, freq='D')\n",
        "df = pd.DataFrame({'Value': [1, 2, 3]}, index=date_range)\n",
        "\n",
        "# Localize to a specific time zone\n",
        "df = df.tz_localize('America/New_York')\n",
        "print(df)\n",
        "\n",
        "# Convert to another time zone\n",
        "df_utc = df.tz_convert('UTC')\n",
        "print(df_utc)\n"
      ],
      "metadata": {
        "id": "DecYF8m8m7so"
      },
      "execution_count": null,
      "outputs": []
    }
  ]
}