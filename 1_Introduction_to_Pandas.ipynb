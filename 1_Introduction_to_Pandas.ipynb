{
  "nbformat": 4,
  "nbformat_minor": 0,
  "metadata": {
    "colab": {
      "private_outputs": true,
      "provenance": []
    },
    "kernelspec": {
      "name": "python3",
      "display_name": "Python 3"
    },
    "language_info": {
      "name": "python"
    }
  },
  "cells": [
    {
      "cell_type": "code",
      "execution_count": null,
      "metadata": {
        "id": "Lr0z_hKzVD18"
      },
      "outputs": [],
      "source": []
    },
    {
      "cell_type": "markdown",
      "source": [
        "### Module 1: Introduction to Pandas\n",
        "\n",
        "#### 1. **What is Pandas?**\n",
        "\n",
        "Pandas is a powerful and flexible open-source data analysis and manipulation library for Python. It provides data structures and functions needed to efficiently manipulate large datasets, perform data cleaning, and conduct data analysis. The core data structures in Pandas are the Series and DataFrame.\n",
        "\n",
        "- **Key Features:**\n",
        "  - **Data Manipulation:** Provides tools for reshaping and pivoting datasets.\n",
        "  - **Data Cleaning:** Includes functions for handling missing data, duplicates, and data transformation.\n",
        "  - **Data Aggregation:** Facilitates grouping, summarizing, and aggregating data.\n",
        "  - **Integration:** Works seamlessly with other data science libraries like NumPy, SciPy, and Matplotlib.\n",
        "\n",
        "- **Use Cases:**\n",
        "  - Data cleaning and preparation\n",
        "  - Exploratory data analysis (EDA)\n",
        "  - Time series analysis\n",
        "  - Data visualization\n",
        "\n",
        "#### 2. **Installation and Setup**\n",
        "\n",
        "To use Pandas, you need to install it using Python's package manager, `pip`. You can install Pandas via the command line or terminal.\n",
        "\n",
        "- **Installation Command:**\n",
        "  ```bash\n",
        "  pip install pandas\n",
        "  \n",
        "# Verification\n",
        "\n",
        "After installation, you can verify the installation by importing Pandas and checking its version:\n",
        "\n",
        "```python\n",
        "import pandas as pd\n",
        "print(pd.__version__)\n"
      ],
      "metadata": {
        "id": "Kyz7NpxNVLgM"
      }
    },
    {
      "cell_type": "markdown",
      "source": [
        "### 3. Pandas Data Structures\n",
        "\n",
        "Pandas provides two primary data structures: **Series** and **DataFrame**. These structures are fundamental for data analysis and manipulation in Pandas.\n",
        "\n",
        "#### 3.1. **Series**\n",
        "\n",
        "- **Description:**\n",
        "  A Series is a one-dimensional labeled array that can hold any data type (integers, strings, floats, etc.). It is akin to a column in a DataFrame or a list with labels, providing additional functionalities compared to a basic list or NumPy array.\n",
        "\n",
        "- **Creation:**\n",
        "  You can create a Series from different data structures like lists, dictionaries, or scalar values.\n",
        "\n",
        "  ```python\n",
        "  import pandas as pd\n",
        "\n",
        "  # Creating a Series from a list\n",
        "  data = [10, 20, 30, 40]\n",
        "  series = pd.Series(data)\n",
        "  print(series)\n",
        "  # Output:\n",
        "  # 0    10\n",
        "  # 1    20\n",
        "  # 2    30\n",
        "  # 3    40\n",
        "  # dtype: int64\n"
      ],
      "metadata": {
        "id": "3uDkPW2PXVSF"
      }
    },
    {
      "cell_type": "markdown",
      "source": [
        "## Creating a Series with Custom Index:\n",
        "- Custom indices can be used to label the data points, which is helpful for better data understanding and manipulation.\n",
        "```python\n",
        "import pandas as pd\n",
        "index = ['edukron', 'aiml', 'ml', 'dl']\n",
        "data = [10, 20, 30, 40]\n",
        "series = pd.Series(data, index=index)\n",
        "print(series)\n",
        "\n",
        "\n",
        "### Accessing Elements\n",
        "\n",
        "- You can access elements using both integer-based indexing and label-based indexing.\n",
        "\n",
        "```python\n",
        "# Accessing an element using integer-based indexing\n",
        "print(series[1])  # Output: 200\n",
        "\n",
        "# Accessing an element using label-based indexing\n",
        "print(series['ml'])  # Output: 300\n",
        "\n",
        "### Slicing:\n",
        "- You can perform slicing operations to access a range of elements.\n",
        "\n",
        "```python\n",
        "\n",
        "# Slicing with integer-based indexing\n",
        "print(series[1:3])\n",
        "# Output:\n",
        "# aiml    200\n",
        "# ml      300\n",
        "# dtype: int64\n",
        "\n",
        "# Slicing with label-based indexing\n",
        "print(series['aiml':'dl'])\n",
        "# Output:\n",
        "# aiml    200\n",
        "# ml      300\n",
        "# dl      400\n",
        "# dtype: int64\n",
        "\n",
        "\n",
        "\n",
        "\n",
        "\n"
      ],
      "metadata": {
        "id": "jnMqVhQMYILY"
      }
    },
    {
      "cell_type": "markdown",
      "source": [
        "### Operations on Series:\n",
        "- You can perform various operations on Series, such as arithmetic operations, statistical computations, and applying functions.\n",
        "```python\n",
        "# Arithmetic operation\n",
        "print(series + 10)\n",
        "# Output:\n",
        "# edukron    110\n",
        "# aiml       210\n",
        "# ml         310\n",
        "# dl         410\n",
        "# dtype: int64\n",
        "# Statistical operations\n",
        "print(series.mean())  # Output: 250.0\n",
        "print(series.std())   # Output: 129.10\n",
        "# Applying a function\n",
        "print(series.apply(lambda x: x ** 2))\n",
        "# Output:\n",
        "# edukron    10000\n",
        "# aiml       40000\n",
        "# ml         90000\n",
        "# dl        160000\n",
        "# dtype: int64\n"
      ],
      "metadata": {
        "id": "47vN61Vmizkj"
      }
    },
    {
      "cell_type": "markdown",
      "source": [
        "### Handling Missing Data:\n",
        "- Series can handle missing data using NaN values.\n",
        "\n",
        "```python\n",
        "\n",
        "data_with_nan = [1, 2, None, 4]\n",
        "series_with_nan = pd.Series(data_with_nan)\n",
        "print(series_with_nan)\n",
        "# Output:\n",
        "# 0    1.0\n",
        "# 1    2.0\n",
        "# 2    NaN\n",
        "# 3    4.0\n",
        "# dtype: float64\n",
        "\n",
        "# Checking for missing values\n",
        "print(series_with_nan.isna())\n",
        "# Output:\n",
        "# 0    False\n",
        "# 1    False\n",
        "# 2     True\n",
        "# 3    False\n",
        "# dtype: bool\n",
        "\n",
        "# Filling missing values\n",
        "filled_series = series_with_nan.fillna(0)\n",
        "print(filled_series)\n",
        "# Output:\n",
        "# 0    1.0\n",
        "# 1    2.0\n",
        "# 2    0.0\n",
        "# 3    4.0\n",
        "# dtype: float64\n"
      ],
      "metadata": {
        "id": "GdJhWII7i-rV"
      }
    },
    {
      "cell_type": "markdown",
      "source": [
        "### String Operations:\n",
        "- Series with string data type supports vectorized string operations.\n",
        "\n",
        "```python\n",
        "text_data = ['edukron', 'aiml', 'ml', 'dl']\n",
        "text_series = pd.Series(text_data)\n",
        "\n",
        "# Converting to uppercase\n",
        "print(text_series.str.upper())\n",
        "# Output:\n",
        "# 0    EDUKRON\n",
        "# 1       AIML\n",
        "# 2         ML\n",
        "# 3         DL\n",
        "# dtype: object\n",
        "\n",
        "# Finding the length of each string\n",
        "print(text_series.str.len())\n",
        "# Output:\n",
        "# 0    7\n",
        "# 1    4\n",
        "# 2    2\n",
        "# 3    2\n",
        "# dtype: int64\n"
      ],
      "metadata": {
        "id": "SHl9r8TJjGmb"
      }
    },
    {
      "cell_type": "markdown",
      "source": [
        "# 3.2 DataFrame:"
      ],
      "metadata": {
        "id": "xHLlCa7XjNWM"
      }
    },
    {
      "cell_type": "markdown",
      "source": [
        "### 3.2. **DataFrame**\n",
        "\n",
        "- **Description:**\n",
        "  A DataFrame in Pandas is a two-dimensional labeled data structure that can hold data of different types (e.g., integers, floats, strings) across columns. It is akin to a table in a database or a spreadsheet, offering a powerful tool for data manipulation and analysis.\n",
        "\n",
        "  **Key Characteristics:**\n",
        "  - **Columns:** Each column in a DataFrame can be of a different data type.\n",
        "  - **Indexing:** DataFrames have both row and column labels (indices), allowing for more flexible data access and manipulation.\n",
        "  - **Alignment:** Automatic alignment of data based on row and column labels ensures consistency when performing operations on multiple DataFrames.\n",
        "\n",
        "- **Creating a DataFrame:**\n",
        "  DataFrames can be created from various data structures such as dictionaries, lists, and even other DataFrames.\n",
        "\n",
        "  **From a Dictionary:**\n",
        "  ```python\n",
        "  import pandas as pd\n",
        "\n",
        "  # Creating a DataFrame from a dictionary\n",
        "  data = {\n",
        "      'Name': ['Alice', 'Bob', 'Charlie'],\n",
        "      'Age': [25, 30, 35],\n",
        "      'City': ['New York', 'Los Angeles', 'Chicago']\n",
        "  }\n",
        "  df = pd.DataFrame(data)\n",
        "  print(df)\n",
        "  # Output:\n",
        "  #       Name  Age         City\n",
        "  # 0    Alice   25     New York\n",
        "  # 1      Bob   30  Los Angeles\n",
        "  # 2  Charlie   35      Chicago\n"
      ],
      "metadata": {
        "id": "gvERLfo2jlHU"
      }
    },
    {
      "cell_type": "markdown",
      "source": [
        "### From a List of Dictionaries:\n",
        "\n",
        "```python\n",
        "# Creating a DataFrame from a list of dictionaries\n",
        "data_list = [\n",
        "    {'Name': 'Alice', 'Age': 25, 'City': 'New York'},\n",
        "    {'Name': 'Bob', 'Age': 30, 'City': 'Los Angeles'},\n",
        "    {'Name': 'Charlie', 'Age': 35, 'City': 'Chicago'}\n",
        "]\n",
        "df_from_list = pd.DataFrame(data_list)\n",
        "print(df_from_list)\n",
        "# Output:\n",
        "#       Name  Age         City\n",
        "# 0    Alice   25     New York\n",
        "# 1      Bob   30  Los Angeles\n",
        "# 2  Charlie   35      Chicago\n"
      ],
      "metadata": {
        "id": "R1bIOgoIkyDD"
      }
    },
    {
      "cell_type": "markdown",
      "source": [
        "### From a List of Lists:\n",
        "```python\n",
        "# Creating a DataFrame from a list of lists with custom column names\n",
        "data_list_of_lists = [\n",
        "    ['Alice', 25, 'New York'],\n",
        "    ['Bob', 30, 'Los Angeles'],\n",
        "    ['Charlie', 35, 'Chicago']\n",
        "]\n",
        "df_from_lists = pd.DataFrame(data_list_of_lists, columns=['Name', 'Age', 'City'])\n",
        "print(df_from_lists)\n",
        "# Output:\n",
        "#       Name  Age         City\n",
        "# 0    Alice   25     New York\n",
        "# 1      Bob   30  Los Angeles\n",
        "# 2  Charlie   35      Chicago\n",
        "\n"
      ],
      "metadata": {
        "id": "BHaU-AIFlPhh"
      }
    },
    {
      "cell_type": "markdown",
      "source": [
        "### Custom Index:\n",
        "```python\n",
        "index = ['person1', 'person2', 'person3']\n",
        "df_custom_index = pd.DataFrame(data, index=index)\n",
        "print(df_custom_index)\n",
        "# Output:\n",
        "#            Name  Age         City\n",
        "# person1    Alice   25     New York\n",
        "# person2      Bob   30  Los Angeles\n",
        "# person3  Charlie   35      Chicago\n",
        "\n"
      ],
      "metadata": {
        "id": "jrqKVJxVlVF9"
      }
    },
    {
      "cell_type": "markdown",
      "source": [
        "# Accessing Data:\n",
        "- Accessing data in a DataFrame can be done using labels or integer-based indices. You can also use methods for more complex data access.\n",
        "\n",
        "### Accessing Columns:\n",
        "```python\n",
        "# Accessing a column\n",
        "print(df['Name'])\n",
        "# Output:\n",
        "# 0      Alice\n",
        "# 1        Bob\n",
        "# 2    Charlie\n",
        "# Name: Name, dtype: object\n",
        "\n",
        "\n"
      ],
      "metadata": {
        "id": "nBRGmyW6lc2m"
      }
    },
    {
      "cell_type": "markdown",
      "source": [
        "### Accessing Rows by Label:\n",
        "```python\n",
        "# Accessing a row by label\n",
        "print(df_custom_index.loc['person1'])\n",
        "# Output:\n",
        "# Name    Alice\n",
        "# Age        25\n",
        "# City   New York\n",
        "# Name: person1, dtype: object\n"
      ],
      "metadata": {
        "id": "UZTYzlOzlmcw"
      }
    },
    {
      "cell_type": "markdown",
      "source": [
        "### Accessing Rows by Integer Position:\n",
        "\n",
        "```python\n",
        "# Accessing a row by integer position\n",
        "print(df.iloc[0])\n",
        "# Output:\n",
        "# Name    Alice\n",
        "# Age        25\n",
        "# City   New York\n",
        "# Name: 0, dtype: object\n"
      ],
      "metadata": {
        "id": "0gQ_jxNzlrNe"
      }
    },
    {
      "cell_type": "markdown",
      "source": [
        "### Accessing Multiple Rows and Columns:\n",
        "```pyhton\n",
        "# Accessing multiple rows and columns\n",
        "print(df_custom_index.loc[['person1', 'person2'], ['Name', 'City']])\n",
        "# Output:\n",
        "#            Name         City\n",
        "# person1    Alice     New York\n",
        "# person2      Bob  Los Angeles\n"
      ],
      "metadata": {
        "id": "CZekP5Q_lva6"
      }
    },
    {
      "cell_type": "markdown",
      "source": [
        "## Adding and Removing Columns:\n",
        "- Adding and removing columns from a DataFrame is straightforward and allows for flexible data manipulation.\n",
        "\n",
        "### Adding a New Column:\n",
        "```python\n",
        "# Adding a new column\n",
        "df['Occupation'] = ['Engineer', 'Artist', 'Doctor']\n",
        "print(df)\n",
        "# Output:\n",
        "#       Name  Age         City  Occupation\n",
        "# 0    Alice   25     New York   Engineer\n",
        "# 1      Bob   30  Los Angeles     Artist\n",
        "# 2  Charlie   35      Chicago     Doctor\n"
      ],
      "metadata": {
        "id": "xsCHyin-l0e0"
      }
    },
    {
      "cell_type": "markdown",
      "source": [
        "### Removing a Column:\n",
        "```python\n",
        "# Removing a column\n",
        "df = df.drop(columns=['Occupation'])\n",
        "print(df)\n",
        "# Output:\n",
        "#       Name  Age         City\n",
        "# 0    Alice   25     New York\n",
        "# 1      Bob   30  Los Angeles\n",
        "# 2  Charlie   35      Chicago\n",
        "\n"
      ],
      "metadata": {
        "id": "-SoKKzpHl9AS"
      }
    },
    {
      "cell_type": "markdown",
      "source": [
        "## DataFrame Operations:\n",
        "- DataFrames support a wide range of operations including aggregation, merging, and reshaping.\n",
        "\n",
        "### Aggregation:\n",
        "```python\n",
        "# Aggregation - Descriptive statistics\n",
        "print(df.describe())\n",
        "# Output:\n",
        "#              Age\n",
        "# count   3.000000\n",
        "# mean   30.000000\n",
        "# std     5.000000\n",
        "# min    25.000000\n",
        "# 25%    27.500000\n",
        "# 50%    30.000000\n",
        "# 75%    32.500000\n",
        "# max    35.000000\n"
      ],
      "metadata": {
        "id": "-n92_PM1mB_F"
      }
    },
    {
      "cell_type": "markdown",
      "source": [
        "### Merging DataFrames:\n",
        "\n",
        "```python\n",
        "# Merging DataFrames on a common column\n",
        "df2 = pd.DataFrame({\n",
        "    'Name': ['Alice', 'Bob'],\n",
        "    'Country': ['USA', 'USA']\n",
        "})\n",
        "merged_df = pd.merge(df, df2, on='Name', how='inner')\n",
        "print(merged_df)\n",
        "# Output:\n",
        "#       Name  Age         City Country\n",
        "# 0    Alice   25     New York     USA\n",
        "# 1      Bob   30  Los Angeles     USA\n"
      ],
      "metadata": {
        "id": "HJs0Rko6mLbY"
      }
    },
    {
      "cell_type": "markdown",
      "source": [
        "### Concatenation:\n",
        "```python\n",
        "\n",
        "# Concatenating DataFrames along rows\n",
        "df3 = pd.DataFrame({\n",
        "    'Name': ['David', 'Eve'],\n",
        "    'Age': [40, 45],\n",
        "    'City': ['Miami', 'San Francisco']\n",
        "})\n",
        "concatenated_df = pd.concat([df, df3], ignore_index=True)\n",
        "print(concatenated_df)\n",
        "# Output:\n",
        "#        Name  Age             City\n",
        "# 0    Alice   25       New York\n",
        "# 1      Bob   30    Los Angeles\n",
        "# 2  Charlie   35        Chicago\n",
        "# 3    David   40           Miami\n",
        "# 4      Eve   45  San Francisco\n",
        "\n"
      ],
      "metadata": {
        "id": "qlkqt_QnmQZH"
      }
    },
    {
      "cell_type": "markdown",
      "source": [
        "### Reshaping:\n",
        "```python\n",
        "# Reshaping DataFrame - Pivot\n",
        "pivot_df = pd.DataFrame({\n",
        "    'Date': ['2023-01-01', '2023-01-02', '2023-01-01', '2023-01-02'],\n",
        "    'Category': ['A', 'A', 'B', 'B'],\n",
        "    'Value': [10, 20, 30, 40]\n",
        "})\n",
        "pivot_table = pivot_df.pivot(index='Date', columns='Category', values='Value')\n",
        "print(pivot_table)\n",
        "# Output:\n",
        "# Category     A     B\n",
        "# Date\n",
        "# 2023-01-01  10    30\n",
        "# 2023-01-02  20    40\n",
        "\n"
      ],
      "metadata": {
        "id": "KbJeYqsbmic7"
      }
    },
    {
      "cell_type": "markdown",
      "source": [
        "# Handling Missing Data:\n",
        "- Missing data is common in real-world datasets. Pandas provides robust methods to handle missing values.\n",
        "\n",
        "### Checking for Missing Values:\n",
        "```python\n",
        "# Checking for missing values\n",
        "data_with_nan = {\n",
        "    'Name': ['Alice', 'Bob', None],\n",
        "    'Age': [25, None, 35],\n",
        "    'City': ['New York', 'Los Angeles', None]\n",
        "}\n",
        "df_with_nan = pd.DataFrame(data_with_nan)\n",
        "print(df_with_nan.isna())\n",
        "# Output:\n",
        "#    Name    Age   City\n",
        "# 0  False  False  False\n",
        "# 1  False   True  False\n",
        "# 2   True  False\n"
      ],
      "metadata": {
        "id": "UcOw81W1mnij"
      }
    },
    {
      "cell_type": "markdown",
      "source": [],
      "metadata": {
        "id": "JeAE4yUGmxQA"
      }
    }
  ]
}